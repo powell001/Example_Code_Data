{
 "cells": [
  {
   "cell_type": "code",
   "execution_count": 1,
   "metadata": {},
   "outputs": [],
   "source": [
    "import pandas as pd\n",
    "import requests\n",
    "import wbgapi as wb\n",
    "import io\n",
    "import matplotlib.pyplot as plt\n",
    "import openpyxl"
   ]
  },
  {
   "cell_type": "code",
   "execution_count": 2,
   "metadata": {},
   "outputs": [],
   "source": [
    "settings = {'figure.figsize':(14,4),\n",
    "            'figure.dpi':144,\n",
    "            'figure.facecolor':'w',\n",
    "            'axes.spines.top':False,\n",
    "            'axes.spines.bottom':False,\n",
    "            'axes.spines.left':False,\n",
    "            'axes.spines.right':False,\n",
    "            'axes.grid':True,\n",
    "            'grid.linestyle':'--',\n",
    "            'grid.linewidth':0.5, \n",
    "            'figure.constrained_layout.use':True}\n",
    "plt.rcParams.update(settings)\n",
    "\n",
    "%config InlineBackend.figure_format = \"retina\""
   ]
  },
  {
   "cell_type": "code",
   "execution_count": 3,
   "metadata": {},
   "outputs": [],
   "source": [
    "#### Where to put data and figures\n",
    "output = \"../Data/\"\n",
    "figures = \"../Figures/\"\t"
   ]
  },
  {
   "cell_type": "code",
   "execution_count": 4,
   "metadata": {},
   "outputs": [],
   "source": [
    "wb.source.info()\n",
    "\n",
    "myURL = 'https://thedocs.worldbank.org/en/doc/5d903e848db1d1b83e0ec8f744e55570-0350012021/related/CMO-Historical-Data-Monthly.xlsx'\n",
    "\n",
    "s = requests.get(myURL).content\n",
    "xl = pd.ExcelFile(io.BytesIO(s))\n",
    "xl.sheet_names\n",
    "\n",
    "data = xl.parse('Monthly Prices',skiprows=4)\n",
    "data.drop(index=0,inplace=True)\n",
    "data.drop(columns=[\"Unnamed: 0\"], inplace=True)\n",
    "\n",
    "data.index = pd.date_range(\"1960-01-01\", periods=data.shape[0], freq=\"MS\")\n",
    "\n",
    "data = data.loc['1980-01-01':,:]\n",
    "data_original = data.copy()\n",
    "\n",
    "# data contains strings\n",
    "cols1 = data_original.columns\n",
    "data_original[cols1] = data_original[cols1].apply(pd.to_numeric,errors='coerce')\n",
    "\n",
    "# barley sorghum bad data\n",
    "data_original.drop(columns=[\"Barley\",\"Sorghum\"],inplace=True)\n",
    "\n",
    "data_original.to_csv(output+\"commodityprices_mo.csv\")"
   ]
  },
  {
   "cell_type": "code",
   "execution_count": null,
   "metadata": {},
   "outputs": [],
   "source": []
  },
  {
   "cell_type": "code",
   "execution_count": null,
   "metadata": {},
   "outputs": [],
   "source": []
  }
 ],
 "metadata": {
  "kernelspec": {
   "display_name": ".venv",
   "language": "python",
   "name": "python3"
  },
  "language_info": {
   "codemirror_mode": {
    "name": "ipython",
    "version": 3
   },
   "file_extension": ".py",
   "mimetype": "text/x-python",
   "name": "python",
   "nbconvert_exporter": "python",
   "pygments_lexer": "ipython3",
   "version": "3.13.0"
  }
 },
 "nbformat": 4,
 "nbformat_minor": 2
}
